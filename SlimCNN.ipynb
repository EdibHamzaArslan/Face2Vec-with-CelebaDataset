{
  "nbformat": 4,
  "nbformat_minor": 0,
  "metadata": {
    "colab": {
      "name": "SlimCNN.ipynb",
      "provenance": [],
      "collapsed_sections": [
        "tVAxNejQ82Zu",
        "rYwXEnmsGzrp"
      ],
      "toc_visible": true,
      "mount_file_id": "1SI2BagnOR_SDYQUBa2roAo76sEQV9y9X",
      "authorship_tag": "ABX9TyO1+3e0mNDbD39tIvR78j44",
      "include_colab_link": true
    },
    "kernelspec": {
      "display_name": "Python 3",
      "name": "python3"
    },
    "accelerator": "GPU"
  },
  "cells": [
    {
      "cell_type": "markdown",
      "metadata": {
        "id": "view-in-github",
        "colab_type": "text"
      },
      "source": [
        "<a href=\"https://colab.research.google.com/github/EdibHamzaArslan/Face2Vec-with-CelebaDataset/blob/main/SlimCNN.ipynb\" target=\"_parent\"><img src=\"https://colab.research.google.com/assets/colab-badge.svg\" alt=\"Open In Colab\"/></a>"
      ]
    },
    {
      "cell_type": "code",
      "metadata": {
        "id": "_WT-KcBpV607",
        "colab": {
          "base_uri": "https://localhost:8080/"
        },
        "outputId": "f624c36d-9bd1-4871-ab95-90bafb0aeaf9"
      },
      "source": [
        "from data.preprocessing import DataProcess\n",
        "from models.slim_cnn import SlimCNN\n",
        "from models.config import Config\n",
        "\n",
        "\n",
        "img_path = 'img_align_celeba/img_align_celeba'\n",
        "data_path = 'CelebFaces/'\n",
        "train_path = 'CelebFaces/Train'\n",
        "val_path = 'CelebFaces/Validation'\n",
        "test_path ='CelebFaces/Test'\n",
        "attribute_data_path = 'list_attr_celeba.csv'\n",
        "preprocessing = DataProcess(img_path, data_path, train_path, val_path, test_path, attribute_data_path)\n",
        "\n",
        "preprocessing.download_data()\n",
        "preprocessing.seperate_data()"
      ],
      "execution_count": null,
      "outputs": [
        {
          "output_type": "stream",
          "text": [
            "Kaggle.json is successfully setuped.\n",
            "Celeba Downloaded\n",
            "Data seperation is successfully.\n",
            "Downloaded data is deleted\n"
          ],
          "name": "stdout"
        }
      ]
    },
    {
      "cell_type": "code",
      "metadata": {
        "id": "pXk7LzCbSW46"
      },
      "source": [
        "train_gen = preprocessing.create_train_gen()\n",
        "val_gen = preprocessing.create_val_gen()\n",
        "test_gen = preprocessing.create_test_gen()"
      ],
      "execution_count": null,
      "outputs": []
    },
    {
      "cell_type": "code",
      "metadata": {
        "colab": {
          "base_uri": "https://localhost:8080/"
        },
        "id": "EMnbv2OdSXHe",
        "outputId": "06eb8ead-279d-48d4-b9ff-6f1ef07096e0"
      },
      "source": [
        "filters = Config()\n",
        "model = SlimCNN(filters.layers, \n",
        "                filters.conv_filter_size, \n",
        "                filters.conv_filter, \n",
        "                filters.conv_stride, \n",
        "                filters.max_pool_filter, \n",
        "                filters.max_pool_stride)\n",
        "\n",
        "model = model.my_compile(model, dynamic_mode=False)\n",
        "model.summary()"
      ],
      "execution_count": null,
      "outputs": [
        {
          "output_type": "stream",
          "text": [
            "Model: \"slim_cnn\"\n",
            "_________________________________________________________________\n",
            "Layer (type)                 Output Shape              Param #   \n",
            "=================================================================\n",
            "conv2d (Conv2D)              (None, 89, 109, 96)       14208     \n",
            "_________________________________________________________________\n",
            "batch_normalization (BatchNo (None, 89, 109, 96)       384       \n",
            "_________________________________________________________________\n",
            "slim_module (SlimModule)     (None, 44, 54, 48)        30896     \n",
            "_________________________________________________________________\n",
            "slim_module_1 (SlimModule)   (None, 21, 26, 96)        72544     \n",
            "_________________________________________________________________\n",
            "slim_module_2 (SlimModule)   (None, 10, 12, 144)       166416    \n",
            "_________________________________________________________________\n",
            "slim_module_3 (SlimModule)   (None, 4, 5, 192)         298688    \n",
            "_________________________________________________________________\n",
            "max_pooling2d (MaxPooling2D) multiple                  0         \n",
            "_________________________________________________________________\n",
            "activation_12 (Activation)   (None, 89, 109, 96)       0         \n",
            "_________________________________________________________________\n",
            "global_average_pooling2d (Gl (None, 192)               0         \n",
            "_________________________________________________________________\n",
            "dense (Dense)                (None, 40)                7720      \n",
            "=================================================================\n",
            "Total params: 590,856\n",
            "Trainable params: 576,264\n",
            "Non-trainable params: 14,592\n",
            "_________________________________________________________________\n"
          ],
          "name": "stdout"
        }
      ]
    },
    {
      "cell_type": "code",
      "metadata": {
        "colab": {
          "base_uri": "https://localhost:8080/"
        },
        "id": "LJC5pFLtSXQj",
        "outputId": "0b9f120c-ae22-415f-b848-1d87ba236393"
      },
      "source": [
        "from train import TrainingLoop\n",
        "EPOCHS = 100\n",
        "training = TrainingLoop(model, EPOCHS)\n",
        "train_accs, train_losses, val_accs, val_losses = training.train(train_gen, val_gen)"
      ],
      "execution_count": null,
      "outputs": [
        {
          "output_type": "stream",
          "text": [
            "\n",
            "epoch 1/100\n",
            "-------------------\n",
            "Training acc: 0.8336\n",
            "Training loss: 0.3728\n",
            "-------------------\n",
            "Validation acc: 0.8506\n",
            "Validation loss: 0.3461\n",
            "-------------------\n",
            "Model is saving slim_cnn_model.000.0.35.h5\n",
            "Time taken: 960.49s\n",
            "\n",
            "epoch 2/100\n",
            "-------------------\n",
            "Training acc: 0.8774\n",
            "Training loss: 0.2798\n",
            "-------------------\n",
            "Validation acc: 0.8785\n",
            "Validation loss: 0.2798\n",
            "-------------------\n",
            "Model is saving slim_cnn_model.001.0.28.h5\n",
            "Time taken: 925.14s\n",
            "\n",
            "epoch 3/100\n",
            "-------------------\n",
            "Training acc: 0.8903\n",
            "Training loss: 0.2491\n",
            "-------------------\n",
            "Validation acc: 0.8893\n",
            "Validation loss: 0.2547\n",
            "-------------------\n",
            "Model is saving slim_cnn_model.002.0.25.h5\n",
            "Time taken: 925.57s\n",
            "\n",
            "epoch 4/100\n",
            "-------------------\n",
            "Training acc: 0.8969\n",
            "Training loss: 0.2335\n",
            "-------------------\n",
            "Validation acc: 0.8911\n",
            "Validation loss: 0.2483\n",
            "-------------------\n",
            "Model is saving slim_cnn_model.003.0.25.h5\n",
            "Time taken: 926.44s\n",
            "\n",
            "epoch 5/100\n",
            "-------------------\n",
            "Training acc: 0.9013\n",
            "Training loss: 0.2237\n",
            "-------------------\n",
            "Validation acc: 0.8880\n",
            "Validation loss: 0.2540\n",
            "-------------------\n",
            "Model is not saved, didn't pass best val_loss, counter:  1\n",
            "Time taken: 927.49s\n",
            "\n",
            "epoch 6/100\n",
            "-------------------\n",
            "Training acc: 0.9044\n",
            "Training loss: 0.2167\n",
            "-------------------\n",
            "Validation acc: 0.8832\n",
            "Validation loss: 0.2634\n",
            "-------------------\n",
            "Model is not saved, didn't pass best val_loss, counter:  2\n",
            "Time taken: 926.69s\n",
            "\n",
            "epoch 7/100\n",
            "-------------------\n",
            "Training acc: 0.9068\n",
            "Training loss: 0.2115\n",
            "-------------------\n",
            "Validation acc: 0.8933\n",
            "Validation loss: 0.2420\n",
            "-------------------\n",
            "Model is saving slim_cnn_model.006.0.24.h5\n",
            "Time taken: 924.34s\n",
            "\n",
            "epoch 8/100\n",
            "-------------------\n",
            "Training acc: 0.9086\n",
            "Training loss: 0.2073\n",
            "-------------------\n",
            "Validation acc: 0.8886\n",
            "Validation loss: 0.2535\n",
            "-------------------\n",
            "Model is not saved, didn't pass best val_loss, counter:  1\n",
            "Time taken: 925.22s\n",
            "\n",
            "epoch 9/100\n",
            "-------------------\n",
            "Training acc: 0.9102\n",
            "Training loss: 0.2037\n",
            "-------------------\n",
            "Validation acc: 0.8851\n",
            "Validation loss: 0.2594\n",
            "-------------------\n",
            "Model is not saved, didn't pass best val_loss, counter:  2\n",
            "Time taken: 924.93s\n",
            "\n",
            "epoch 10/100\n",
            "-------------------\n",
            "Training acc: 0.9117\n",
            "Training loss: 0.2006\n",
            "-------------------\n",
            "Validation acc: 0.8977\n",
            "Validation loss: 0.2325\n",
            "-------------------\n",
            "Model is saving slim_cnn_model.009.0.23.h5\n",
            "Time taken: 928.26s\n",
            "\n",
            "epoch 11/100\n",
            "-------------------\n",
            "Training acc: 0.9130\n",
            "Training loss: 0.1978\n",
            "-------------------\n",
            "Validation acc: 0.9011\n",
            "Validation loss: 0.2253\n",
            "-------------------\n",
            "Model is saving slim_cnn_model.010.0.23.h5\n",
            "Time taken: 927.94s\n",
            "\n",
            "epoch 12/100\n",
            "-------------------\n",
            "Training acc: 0.9141\n",
            "Training loss: 0.1954\n",
            "-------------------\n",
            "Validation acc: 0.8982\n",
            "Validation loss: 0.2321\n",
            "-------------------\n",
            "Model is not saved, didn't pass best val_loss, counter:  1\n",
            "Time taken: 927.36s\n",
            "\n",
            "epoch 13/100\n",
            "-------------------\n",
            "Training acc: 0.9152\n",
            "Training loss: 0.1931\n",
            "-------------------\n",
            "Validation acc: 0.9041\n",
            "Validation loss: 0.2205\n",
            "-------------------\n",
            "Model is saving slim_cnn_model.012.0.22.h5\n",
            "Time taken: 919.58s\n",
            "\n",
            "epoch 14/100\n",
            "-------------------\n",
            "Training acc: 0.9163\n",
            "Training loss: 0.1909\n",
            "-------------------\n",
            "Validation acc: 0.9050\n",
            "Validation loss: 0.2185\n",
            "-------------------\n",
            "Model is saving slim_cnn_model.013.0.22.h5\n",
            "Time taken: 913.96s\n",
            "\n",
            "epoch 15/100\n",
            "-------------------\n",
            "Training acc: 0.9172\n",
            "Training loss: 0.1889\n",
            "-------------------\n",
            "Validation acc: 0.9046\n",
            "Validation loss: 0.2199\n",
            "-------------------\n",
            "Model is not saved, didn't pass best val_loss, counter:  1\n",
            "Time taken: 913.55s\n",
            "\n",
            "epoch 16/100\n",
            "-------------------\n",
            "Training acc: 0.9182\n",
            "Training loss: 0.1869\n",
            "-------------------\n",
            "Validation acc: 0.9022\n",
            "Validation loss: 0.2243\n",
            "-------------------\n",
            "Model is not saved, didn't pass best val_loss, counter:  2\n",
            "Time taken: 913.11s\n",
            "\n",
            "epoch 17/100\n",
            "-------------------\n",
            "Training acc: 0.9191\n",
            "Training loss: 0.1850\n",
            "-------------------\n",
            "Validation acc: 0.9001\n",
            "Validation loss: 0.2306\n",
            "-------------------\n",
            "Model is not saved, didn't pass best val_loss, counter:  3\n",
            "Time taken: 913.90s\n",
            "\n",
            "epoch 18/100\n",
            "-------------------\n",
            "Training acc: 0.9200\n",
            "Training loss: 0.1832\n",
            "-------------------\n",
            "Validation acc: 0.9011\n",
            "Validation loss: 0.2282\n",
            "-------------------\n",
            "Model is not saved, didn't pass best val_loss, counter:  4\n",
            "Time taken: 913.19s\n",
            "\n",
            "epoch 19/100\n",
            "-------------------\n",
            "Training acc: 0.9207\n",
            "Training loss: 0.1815\n",
            "-------------------\n",
            "Validation acc: 0.9025\n",
            "Validation loss: 0.2282\n",
            "-------------------\n",
            "Model is not saved, didn't pass best val_loss, counter:  5\n",
            "Time taken: 920.32s\n",
            "\n",
            "epoch 20/100\n",
            "-------------------\n",
            "Training acc: 0.9215\n",
            "Training loss: 0.1800\n",
            "-------------------\n",
            "Validation acc: 0.8979\n",
            "Validation loss: 0.2509\n",
            "-------------------\n",
            "Model is not saved, didn't pass best val_loss, counter:  6\n",
            "Time taken: 921.93s\n",
            "\n",
            "epoch 21/100\n",
            "-------------------\n",
            "Training acc: 0.9223\n",
            "Training loss: 0.1784\n",
            "-------------------\n",
            "Validation acc: 0.8975\n",
            "Validation loss: 0.2529\n",
            "-------------------\n",
            "Model is not saved, didn't pass best val_loss, counter:  7\n",
            "Time taken: 921.99s\n",
            "\n",
            "epoch 22/100\n",
            "-------------------\n",
            "Training acc: 0.9230\n",
            "Training loss: 0.1770\n",
            "-------------------\n",
            "Validation acc: 0.9001\n",
            "Validation loss: 0.2413\n",
            "-------------------\n",
            "Model is not saved, didn't pass best val_loss, counter:  8\n",
            "Time taken: 923.10s\n",
            "\n",
            "epoch 23/100\n",
            "-------------------\n",
            "Training acc: 0.9237\n",
            "Training loss: 0.1755\n",
            "-------------------\n",
            "Validation acc: 0.9006\n",
            "Validation loss: 0.2347\n",
            "-------------------\n",
            "Model is not saved, didn't pass best val_loss, counter:  9\n",
            "Time taken: 922.75s\n",
            "\n",
            "epoch 24/100\n",
            "-------------------\n",
            "Training acc: 0.9243\n",
            "Training loss: 0.1742\n",
            "-------------------\n",
            "Validation acc: 0.9029\n",
            "Validation loss: 0.2263\n",
            "-------------------\n",
            "Model is not saved, didn't pass best val_loss, counter:  10\n",
            "Time taken: 922.88s\n",
            "\n",
            "epoch 25/100\n",
            "Model can't imrove val_loss during last 10 epoch, training is stopped!\n"
          ],
          "name": "stdout"
        }
      ]
    },
    {
      "cell_type": "code",
      "metadata": {
        "colab": {
          "base_uri": "https://localhost:8080/",
          "height": 295
        },
        "id": "ZQ-5l73DSXaI",
        "outputId": "1cfbd74a-d4eb-4f29-c998-c82d9c19dc4b"
      },
      "source": [
        "import os\n",
        "import matplotlib.pyplot as plt\n",
        "\n",
        "\n",
        "train_acc, train_loss, val_acc, val_loss = train_accs, train_losses, val_accs, val_losses\n",
        "model_result_path = 'Plots/'\n",
        "epochs = range(1, len(train_acc)+1)\n",
        "plt.plot(epochs, train_acc, 'b', label='train_acc')\n",
        "plt.plot(epochs, val_acc, 'r', label='val_acc')\n",
        "plt.title(\"Training accuracy\")\n",
        "plt.xlabel('epochs')\n",
        "plt.ylabel('acc')\n",
        "plt.legend() # plt.legend(loc='lower right')\n",
        "if not os.path.exists(model_result_path):\n",
        "  os.mkdir(model_result_path)\n",
        "plt.savefig(os.path.join(model_result_path, 'Acc.png'))\n",
        "plt.show()\n",
        "\n",
        "\n"
      ],
      "execution_count": null,
      "outputs": [
        {
          "output_type": "display_data",
          "data": {
            "image/png": "[encoded data removed]",
            "text/plain": [
              "<Figure size 432x288 with 1 Axes>"
            ]
          },
          "metadata": {
            "tags": [],
            "needs_background": "light"
          }
        }
      ]
    },
    {
      "cell_type": "code",
      "metadata": {
        "colab": {
          "base_uri": "https://localhost:8080/",
          "height": 295
        },
        "id": "xJekGD-sTnrF",
        "outputId": "e4ab48c3-6f74-4adf-d8cf-d6588a80ff70"
      },
      "source": [
        "epochs = range(1, len(train_loss)+1)\n",
        "plt.plot(epochs, train_loss, 'b', label='train_loss')\n",
        "plt.plot(epochs, val_loss, 'r', label='val_loss')\n",
        "plt.title(\"Training loss\")\n",
        "plt.xlabel('epochs')\n",
        "plt.ylabel('loss')\n",
        "plt.legend() # plt.legend(loc='lower right')\n",
        "if not os.path.exists(model_result_path):\n",
        "  os.mkdir(model_result_path)\n",
        "plt.savefig(os.path.join(model_result_path, 'Loss.png'))\n",
        "plt.show()\n"
      ],
      "execution_count": null,
      "outputs": [
        {
          "output_type": "display_data",
          "data": {
            "image/png": "[encoded data removed]",
            "text/plain": [
              "<Figure size 432x288 with 1 Axes>"
            ]
          },
          "metadata": {
            "tags": [],
            "needs_background": "light"
          }
        }
      ]
    },
    {
      "cell_type": "code",
      "metadata": {
        "id": "q-n8s4XeXJ8E"
      },
      "source": [
        "# !cp -r Checkpoints/ /content/drive/MyDrive/SlimCnn_savedWeights\n"
      ],
      "execution_count": null,
      "outputs": []
    },
    {
      "cell_type": "code",
      "metadata": {
        "id": "gYa19Cni8e-e"
      },
      "source": [
        "# !cp -r Plots/ /content/drive/MyDrive/SlimCnn_savedWeights"
      ],
      "execution_count": null,
      "outputs": []
    },
    {
      "cell_type": "code",
      "metadata": {
        "id": "BkyF7Tdz8pkQ"
      },
      "source": [
        ""
      ],
      "execution_count": null,
      "outputs": []
    },
    {
      "cell_type": "code",
      "metadata": {
        "id": "rv2xnF-f8_il"
      },
      "source": [
        ""
      ],
      "execution_count": null,
      "outputs": []
    },
    {
      "cell_type": "code",
      "metadata": {
        "id": "HP0xJzli81oq"
      },
      "source": [
        ""
      ],
      "execution_count": null,
      "outputs": []
    },
    {
      "cell_type": "code",
      "metadata": {
        "id": "APczPazg89ib"
      },
      "source": [
        ""
      ],
      "execution_count": null,
      "outputs": []
    },
    {
      "cell_type": "code",
      "metadata": {
        "id": "G9-fojhV892S"
      },
      "source": [
        ""
      ],
      "execution_count": null,
      "outputs": []
    },
    {
      "cell_type": "code",
      "metadata": {
        "id": "fDqRDLo58-G3"
      },
      "source": [
        ""
      ],
      "execution_count": null,
      "outputs": []
    },
    {
      "cell_type": "markdown",
      "metadata": {
        "id": "lFW3NHHBB4MN"
      },
      "source": [
        "## THE FOLLOWING PARTS NOT INCLUDED IN PROJECT."
      ]
    },
    {
      "cell_type": "markdown",
      "metadata": {
        "id": "tVAxNejQ82Zu"
      },
      "source": [
        "## OLD PROJECT AREA"
      ]
    },
    {
      "cell_type": "code",
      "metadata": {
        "colab": {
          "resources": {
            "http://localhost:8080/nbextensions/google.colab/files.js": {
              "data": "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",
              "ok": true,
              "headers": [
                [
                  "content-type",
                  "application/javascript"
                ]
              ],
              "status": 200,
              "status_text": ""
            }
          },
          "base_uri": "https://localhost:8080/",
          "height": 73
        },
        "id": "lLQwNZBVPrkv",
        "outputId": "bea958be-3609-4aea-bced-8a3c6dd81950"
      },
      "source": [
        "!pip install -q kaggle\n",
        "from google.colab import files\n",
        "files.upload()"
      ],
      "execution_count": null,
      "outputs": [
        {
          "output_type": "display_data",
          "data": {
            "text/html": [
              "\n",
              "     <input type=\"file\" id=\"files-fbafc6ab-df62-447e-86ba-6dff1dcfcc72\" name=\"files[]\" multiple disabled\n",
              "        style=\"border:none\" />\n",
              "     <output id=\"result-fbafc6ab-df62-447e-86ba-6dff1dcfcc72\">\n",
              "      Upload widget is only available when the cell has been executed in the\n",
              "      current browser session. Please rerun this cell to enable.\n",
              "      </output>\n",
              "      <script src=\"/nbextensions/google.colab/files.js\"></script> "
            ],
            "text/plain": [
              "<IPython.core.display.HTML object>"
            ]
          },
          "metadata": {
            "tags": []
          }
        },
        {
          "output_type": "stream",
          "text": [
            "Saving kaggle.json to kaggle.json\n"
          ],
          "name": "stdout"
        },
        {
          "output_type": "execute_result",
          "data": {
            "text/plain": [
              "{'kaggle.json': b'{\"username\":\"hamzaarslan\",\"key\":\"c3519c3f84a6876f67f7104328cdc9c0\"}'}"
            ]
          },
          "metadata": {
            "tags": []
          },
          "execution_count": 2
        }
      ]
    },
    {
      "cell_type": "code",
      "metadata": {
        "id": "mYAVP5bEPryC"
      },
      "source": [
        "! mkdir ~/.kaggle\n",
        "! cp kaggle.json ~/.kaggle/\n",
        "! chmod 600 ~/.kaggle/kaggle.json\n",
        "!kaggle datasets download -d jessicali9530/celeba-dataset\n",
        "!unzip celeba-dataset.*zip"
      ],
      "execution_count": null,
      "outputs": []
    },
    {
      "cell_type": "code",
      "metadata": {
        "id": "7pTkNVDGxAba"
      },
      "source": [
        ""
      ],
      "execution_count": null,
      "outputs": []
    },
    {
      "cell_type": "code",
      "metadata": {
        "id": "B7joE6BbPr-j"
      },
      "source": [
        ""
      ],
      "execution_count": null,
      "outputs": []
    },
    {
      "cell_type": "code",
      "metadata": {
        "id": "3xoQ91Baftqn"
      },
      "source": [
        ""
      ],
      "execution_count": null,
      "outputs": []
    },
    {
      "cell_type": "code",
      "metadata": {
        "id": "9oyZF2rxc3AJ"
      },
      "source": [
        "import pandas as pd\n",
        "import os\n",
        "import numpy as np\n",
        "import pathlib\n",
        "# df = pd.read_csv('list_attr_celeba.csv')\n",
        "# idx = df['image_id']\n",
        "# idxs = []\n",
        "# for i in idx:\n",
        "#   idxs.append(os.path.join('img_align_celeba/img_align_celeba',i))\n",
        "# idx = np.array(idxs)\n",
        "face_root = pathlib.Path('img_align_celeba/img_align_celeba')\n",
        "list_ds = tf.data.Dataset.list_files(str(face_root/'*'))\n",
        "# list_ds = tf.data.Dataset.list_files(idx)\n",
        "# file_path = next(iter(list_ds))\n"
      ],
      "execution_count": null,
      "outputs": []
    },
    {
      "cell_type": "code",
      "metadata": {
        "id": "zjDQMWune-aK"
      },
      "source": [
        "file_path"
      ],
      "execution_count": null,
      "outputs": []
    },
    {
      "cell_type": "code",
      "metadata": {
        "id": "veYWqwG9cjPL"
      },
      "source": [
        "import tensorflow as tf\n",
        "def parse_image(filename):\n",
        "  parts = tf.strings.split(filename, os.sep)\n",
        "  label = parts[-2]\n",
        "\n",
        "  image = tf.io.read_file(filename)\n",
        "  image = tf.image.decode_jpeg(image)\n",
        "  image = tf.image.convert_image_dtype(image, tf.float32)\n",
        "  # image = tf.image.resize(image, [128, 128])\n",
        "  return image"
      ],
      "execution_count": null,
      "outputs": []
    },
    {
      "cell_type": "code",
      "metadata": {
        "id": "55aamaZ9cjgy"
      },
      "source": [
        "# image = parse_image(file_path)\n",
        "import matplotlib.pyplot as plt\n",
        "\n",
        "\n",
        "def show(image):\n",
        "  plt.figure()\n",
        "  plt.imshow(image)\n",
        "  # plt.title(label.numpy().decode('utf-8'))\n",
        "  plt.axis('off')\n",
        "\n",
        "# show(image)"
      ],
      "execution_count": null,
      "outputs": []
    },
    {
      "cell_type": "code",
      "metadata": {
        "colab": {
          "base_uri": "https://localhost:8080/"
        },
        "id": "cEZE4tPefgqv",
        "outputId": "847feb18-e888-4488-c98f-9f2bcd167c97"
      },
      "source": [
        "import time \n",
        "start_time = time.time()\n",
        "# AUTOTUNE = tf.data.AUTOTUNE\n",
        "\n",
        "# train_ds = list_ds.cache().prefetch(buffer_size=AUTOTUNE)\n",
        "# image_ds = list_ds.map(parse_image, num_parallel_calls=tf.data.AUTOTUNE).cache().prefetch(tf.data.AUTOTUNE).batch(10) # .shuffle(buffer_size=100).batch(64)\n",
        "\n",
        "images_ds = list_ds.map(parse_image).batch(10)\n",
        "for image in image_ds.take(64):\n",
        "  # show(image)\n",
        "  continue\n",
        "print(\"Time taken: %.2fs\" % (time.time() - start_time))"
      ],
      "execution_count": null,
      "outputs": [
        {
          "output_type": "stream",
          "text": [
            "Time taken: 0.77s\n"
          ],
          "name": "stdout"
        }
      ]
    },
    {
      "cell_type": "code",
      "metadata": {
        "id": "oGzqdRrb32_L"
      },
      "source": [
        "from utils import DataCleaning, DataSeperator, DataGenerator\n",
        "from models.slim_cnn import SlimCNN\n",
        "from models.config import Config\n",
        "import tensorflow as tf"
      ],
      "execution_count": null,
      "outputs": []
    },
    {
      "cell_type": "code",
      "metadata": {
        "id": "elVZSioM33fz"
      },
      "source": [
        "seperator = DataSeperator()\n",
        "\n",
        "\n",
        "seperator.create_data_paths()\n",
        "\n",
        "df = seperator.read_attribute_data()\n",
        "cleaning = DataCleaning(df)\n",
        "df = cleaning.replace()\n",
        "\n",
        "img_id_list = list(df['image_id'].to_numpy())\n",
        "seperator.seperate_big_data_to_data_path(img_id_list)\n",
        "\n",
        "train_df = df[seperator.train_start : seperator.train_start + 2000 ]\n",
        "valid_df = df[seperator.val_start : seperator.val_start + 1000]\n",
        "test_df = df[seperator.test_start: seperator.test_start + 1000]\n",
        "\n",
        "\n",
        "BATCH_SIZE = 64\n",
        "## Data Generator for training\n",
        "train_img_file_list = list(train_df['image_id'].to_numpy())\n",
        "train_list_IDs = np.array(train_df.drop('image_id', axis=1))\n",
        "train_gen = DataGenerator(DataSeperator().train_path, list_IDs=train_list_IDs, labels=train_img_file_list, batch_size=BATCH_SIZE, shuffle=True)\n",
        "\n",
        "## Data Generator for validation\n",
        "valid_img_file_list = list(valid_df['image_id'].to_numpy())\n",
        "valid_list_IDs = np.array(valid_df.drop('image_id', axis=1))\n",
        "valid_gen = DataGenerator(DataSeperator().vald_path, list_IDs=valid_list_IDs, labels=valid_img_file_list, batch_size=BATCH_SIZE, shuffle=True)\n",
        "\n",
        "\n",
        "## Data Generator for testing\n",
        "test_img_file_list = list(test_df['image_id'].to_numpy())\n",
        "test_list_IDs = np.array(test_df.drop('image_id', axis=1))\n",
        "test_gen = DataGenerator(DataSeperator().test_path, list_IDs=test_list_IDs, labels=test_img_file_list, batch_size=BATCH_SIZE, shuffle=True)"
      ],
      "execution_count": null,
      "outputs": []
    },
    {
      "cell_type": "code",
      "metadata": {
        "id": "v08BPBqh6tmk"
      },
      "source": [
        "\n"
      ],
      "execution_count": null,
      "outputs": []
    },
    {
      "cell_type": "code",
      "metadata": {
        "id": "_UoJYbRl7702"
      },
      "source": [
        ""
      ],
      "execution_count": null,
      "outputs": []
    },
    {
      "cell_type": "code",
      "metadata": {
        "id": "vv0BhO--7ZRn"
      },
      "source": [
        "# from keras_preprocessing.image import ImageDataGenerator\n",
        "\n",
        "# train_datagen = ImageDataGenerator(rescale=1/255.)\n",
        "# validation_datagen = ImageDataGenerator(rescale=1/255.)\n",
        "# test_datagen = ImageDataGenerator(rescale=1/255.)\n",
        "\n",
        "\n",
        "# train_generator=train_datagen.flow_from_dataframe(dataframe=train_df,\n",
        "#                                                   directory='Data/Train',\n",
        "#                                                   x_col='image_id',\n",
        "#                                                   y_col=train_df.columns[1:],\n",
        "#                                                   batch_size=64,\n",
        "#                                                   seed=42,\n",
        "#                                                   shuffle=True,\n",
        "#                                                   class_mode=\"raw\",\n",
        "#                                                   target_size=(178,218))\n",
        "\n",
        "\n",
        "# valid_generator=test_datagen.flow_from_dataframe(dataframe=valid_df,\n",
        "#                                                 directory='Data/Validation',\n",
        "#                                                 x_col='image_id',\n",
        "#                                                 y_col=valid_df.columns[1:],\n",
        "#                                                 batch_size=64,\n",
        "#                                                 seed=42,\n",
        "#                                                 shuffle=True,\n",
        "#                                                 class_mode=\"raw\",\n",
        "#                                                 target_size=(178,218))\n",
        "\n",
        "\n",
        "# test_generator=test_datagen.flow_from_dataframe(dataframe=test_df,\n",
        "#                                                 directory='Data/Test',\n",
        "#                                                 x_col='image_id',\n",
        "#                                                 y_col=test_df.columns[1:],\n",
        "#                                                 batch_size=64,\n",
        "#                                                 seed=42,\n",
        "#                                                 shuffle=False,\n",
        "#                                                 class_mode='raw',\n",
        "#                                                 target_size=(178,218))"
      ],
      "execution_count": null,
      "outputs": []
    },
    {
      "cell_type": "code",
      "metadata": {
        "id": "TGn6GpQj98n6"
      },
      "source": [
        ""
      ],
      "execution_count": null,
      "outputs": []
    },
    {
      "cell_type": "code",
      "metadata": {
        "colab": {
          "base_uri": "https://localhost:8080/"
        },
        "id": "PiLbbp8P-dYS",
        "outputId": "e4eee95a-cc23-4c51-a250-2922436afefe"
      },
      "source": [
        "filters = Config()\n",
        "model = SlimCNN(filters.layers, \n",
        "                filters.conv_filter_size, \n",
        "                filters.conv_filter, \n",
        "                filters.conv_stride, \n",
        "                filters.max_pool_filter, \n",
        "                filters.max_pool_stride)\n",
        "\n",
        "# inputs = tf.keras.layers.Input(shape=filters.input_size)\n",
        "# model.build(input_shape=(None, 178, 218, 3))\n",
        "# y = model.call(inputs)\n",
        "model = model.my_compile(model dynamic_mode=False)\n",
        "model.summary()\n"
      ],
      "execution_count": null,
      "outputs": [
        {
          "output_type": "stream",
          "text": [
            "Model: \"slim_cnn\"\n",
            "_________________________________________________________________\n",
            "Layer (type)                 Output Shape              Param #   \n",
            "=================================================================\n",
            "conv2d (Conv2D)              (None, 89, 109, 96)       14208     \n",
            "_________________________________________________________________\n",
            "batch_normalization (BatchNo (None, 89, 109, 96)       384       \n",
            "_________________________________________________________________\n",
            "slim_module (SlimModule)     (None, 44, 54, 48)        30896     \n",
            "_________________________________________________________________\n",
            "slim_module_1 (SlimModule)   (None, 21, 26, 96)        72544     \n",
            "_________________________________________________________________\n",
            "slim_module_2 (SlimModule)   (None, 10, 12, 144)       166416    \n",
            "_________________________________________________________________\n",
            "slim_module_3 (SlimModule)   (None, 4, 5, 192)         298688    \n",
            "_________________________________________________________________\n",
            "max_pooling2d (MaxPooling2D) multiple                  0         \n",
            "_________________________________________________________________\n",
            "activation_12 (Activation)   (None, 89, 109, 96)       0         \n",
            "_________________________________________________________________\n",
            "global_average_pooling2d (Gl (None, 192)               0         \n",
            "_________________________________________________________________\n",
            "dense (Dense)                (None, 40)                7720      \n",
            "=================================================================\n",
            "Total params: 590,856\n",
            "Trainable params: 576,264\n",
            "Non-trainable params: 14,592\n",
            "_________________________________________________________________\n"
          ],
          "name": "stdout"
        }
      ]
    },
    {
      "cell_type": "code",
      "metadata": {
        "id": "VA4rDQ8MZ6Jd"
      },
      "source": [
        "import tensorflow as tf\n",
        "import time \n",
        "import numpy as np\n",
        "import os\n",
        "\n",
        "class Training():\n",
        "    def __init__(self, model, epochs, batch_size=64, checkpoint='Checkpoints', create_checkpoint=True):\n",
        "        self.model = model \n",
        "        \n",
        "        self.optimizer = tf.keras.optimizers.Adam(learning_rate=1e-4)\n",
        "        self.loss_fn = tf.keras.losses.BinaryCrossentropy(from_logits=True)\n",
        "        \n",
        "        self.train_acc_metric = tf.keras.metrics.BinaryAccuracy()\n",
        "        self.train_loss_metric = tf.keras.metrics.Mean()\n",
        "\n",
        "        self.val_acc_metric = tf.keras.metrics.BinaryAccuracy()\n",
        "        self.val_loss_metric = tf.keras.metrics.Mean()\n",
        "\n",
        "        self.epochs = epochs\n",
        "        self.metrics_names = ['train_acc', \n",
        "                            'train_loss', \n",
        "                            'validation_acc', \n",
        "                            'validation_loss']\n",
        "        self.batch_size = batch_size\n",
        "        self.checkpoint = checkpoint\n",
        "\n",
        "        if create_checkpoint:\n",
        "          if not os.path.exists(self.checkpoint):\n",
        "            os.mkdir(self.checkpoint)\n",
        "    \n",
        "    @tf.function\n",
        "    def train_step(self, x, y):\n",
        "        true_labels = y\n",
        "        with tf.GradientTape() as tape:\n",
        "            prediction = self.model(x, training=True)\n",
        "            loss_value = self.loss_fn(true_labels, prediction)\n",
        "        grads = tape.gradient(loss_value, self.model.trainable_weights)\n",
        "        self.optimizer.apply_gradients(zip(grads, self.model.trainable_weights))\n",
        "        \n",
        "        # Update metrics\n",
        "        self.train_acc_metric.update_state(true_labels, prediction)\n",
        "        self.train_loss_metric.update_state(loss_value)\n",
        "\n",
        "        return loss_value \n",
        "    \n",
        "    @tf.function\n",
        "    def test_step(self, x, y):\n",
        "        val_true_labels = y\n",
        "        val_prediction = self.model(x, training=False)\n",
        "        loss_value = self.loss_fn(val_true_labels, val_prediction)\n",
        "        # Updatate metrics\n",
        "        self.val_acc_metric.update_state(val_true_labels, val_prediction)\n",
        "        self.val_loss_metric.update_state(loss_value)\n",
        "        return loss_value\n",
        "    \n",
        "\n",
        "    def train(self, train_datagen, val_datagen):\n",
        "        train_accs = []\n",
        "        train_losses = []\n",
        "        val_accs = []\n",
        "        val_losses = []\n",
        "        best_losses = [10000]\n",
        "        val_loss_is_not_improved_counter = 0\n",
        "        for epoch in range(self.epochs):\n",
        "            print(\"\\nepoch {}/{}\".format(epoch+1, self.epochs))\n",
        "            start_time = time.time()\n",
        "            if val_loss_is_not_improved_counter == 10:\n",
        "              print(\"Model can't imrove val_loss during last 10 epoch, training is stopped!\")\n",
        "              break\n",
        "            # Training\n",
        "            for step, (x_batch_train, y_batch_train) in enumerate(train_datagen):\n",
        "                train_loss_value = self.train_step(x_batch_train, y_batch_train)\n",
        "\n",
        "            # Display metrics at the end of each epoch.\n",
        "            train_acc = self.train_acc_metric.result()\n",
        "            train_loss = self.train_loss_metric.result()\n",
        "            train_accs.append(train_acc)\n",
        "            train_losses.append(train_loss)\n",
        "            print(\"-------------------\")\n",
        "            print(\"Training acc: %.4f\" % (float(train_acc),))\n",
        "            print(\"Training loss: %.4f\" % (float(train_loss),))\n",
        "            print(\"-------------------\")\n",
        "\n",
        "            # Reset training metrics at the end of each epoch\n",
        "            self.train_acc_metric.reset_states()\n",
        "            self.train_loss_metric.reset_states()\n",
        "\n",
        "            # Validation\n",
        "            for x_batch_val, y_batch_val in val_datagen:\n",
        "                val_loss_value = self.test_step(x_batch_val, y_batch_val)\n",
        "\n",
        "            val_acc = self.val_acc_metric.result()\n",
        "            val_loss = self.val_loss_metric.result()\n",
        "            val_accs.append(val_acc)\n",
        "            val_losses.append(val_loss)\n",
        "            print(\"Validation acc: %.4f\" % (float(val_acc),))\n",
        "            print(\"Validation loss: %.4f\" % (float(val_loss),))\n",
        "            print(\"-------------------\")\n",
        "\n",
        "            if val_loss < best_losses[-1]:\n",
        "              model_name = f'slim_cnn_model.{epoch:03d}.{val_loss:.2f}.h5'\n",
        "              print(\"Model is saving \" + model_name)\n",
        "              self.model.save_weights(os.path.join(self.checkpoint, model_name))\n",
        "              best_losses.append(val_loss)\n",
        "              val_loss_is_not_improved_counter = 0\n",
        "            else:\n",
        "              val_loss_is_not_improved_counter += 1\n",
        "              print(\"Model is not saved, didn't pass best val_loss, counter: \", val_loss_is_not_improved_counter)\n",
        "\n",
        "            self.val_acc_metric.reset_states()\n",
        "            self.val_loss_metric.reset_states()\n",
        "            print(\"Time taken: %.2fs\" % (time.time() - start_time))\n",
        "        return train_accs, train_losses, val_accs, val_losses\n"
      ],
      "execution_count": null,
      "outputs": []
    },
    {
      "cell_type": "code",
      "metadata": {
        "id": "q-5bxoQ9lJUr"
      },
      "source": [
        "EPOCHS = 50\n",
        "filters = Config()\n",
        "model = SlimCNN(filters.layers, \n",
        "                filters.conv_filter_size, \n",
        "                filters.conv_filter, \n",
        "                filters.conv_stride, \n",
        "                filters.max_pool_filter, \n",
        "                filters.max_pool_stride)\n",
        "training = Training(model, EPOCHS)\n",
        "train_acc, train_loss, val_acc, val_loss = training.train(train_gen, valid_gen)"
      ],
      "execution_count": null,
      "outputs": []
    },
    {
      "cell_type": "code",
      "metadata": {
        "id": "YMtgubEKOjWY"
      },
      "source": [
        "import os\n",
        "model_result_path = 'Plots/'\n",
        "epochs = range(1, len(train_acc)+1)\n",
        "plt.plot(epochs, train_acc, 'b', label='train_acc')\n",
        "plt.plot(epochs, val_acc, 'r', label='val_acc')\n",
        "plt.title(\"Training accuracy\")\n",
        "plt.xlabel('epochs')\n",
        "plt.ylabel('acc')\n",
        "plt.legend() # plt.legend(loc='lower right')\n",
        "plt.show()\n",
        "if not os.path.exists(model_result_path):\n",
        "  os.mkdir(model_result_path)\n",
        "plt.savefig(os.path.join(model_result_path, 'Acc'))\n",
        "\n",
        "epochs = range(1, len(train_loss)+1)\n",
        "plt.plot(epochs, train_acc, 'b', label='train_loss')\n",
        "plt.plot(epochs, val_acc, 'r', label='val_loss')\n",
        "plt.title(\"Training loss\")\n",
        "plt.xlabel('epochs')\n",
        "plt.ylabel('loss')\n",
        "plt.legend() # plt.legend(loc='lower right')\n",
        "plt.show()\n",
        "if not os.path.exists(model_result_path):\n",
        "  os.mkdir(model_result_path)\n",
        "plt.savefig(os.path.join(model_result_path, 'Loss'))"
      ],
      "execution_count": null,
      "outputs": []
    },
    {
      "cell_type": "code",
      "metadata": {
        "id": "U7yCiUm9Qr2w"
      },
      "source": [
        "\n"
      ],
      "execution_count": null,
      "outputs": []
    },
    {
      "cell_type": "code",
      "metadata": {
        "id": "NySSG33mSLPU"
      },
      "source": [
        ""
      ],
      "execution_count": null,
      "outputs": []
    },
    {
      "cell_type": "code",
      "metadata": {
        "id": "r8PapFysSLeo"
      },
      "source": [
        ""
      ],
      "execution_count": null,
      "outputs": []
    },
    {
      "cell_type": "code",
      "metadata": {
        "id": "05b-mJqnOi-Y"
      },
      "source": [
        "filters = Config()\n",
        "model2 = SlimCNN(filters.layers, \n",
        "                filters.conv_filter_size, \n",
        "                filters.conv_filter, \n",
        "                filters.conv_stride, \n",
        "                filters.max_pool_filter, \n",
        "                filters.max_pool_stride)\n",
        "model2.compile(optimizer='adam', loss='binary_crossentropy', metrics=['binary_accuracy'])\n",
        "model2(tf.keras.layers.Input(shape=(178,218,3)))\n",
        "model2.load_weights('Checkpoints/slim_cnn_model.032.0.38.h5')"
      ],
      "execution_count": null,
      "outputs": []
    },
    {
      "cell_type": "code",
      "metadata": {
        "colab": {
          "base_uri": "https://localhost:8080/"
        },
        "id": "qgCyU4KINwL4",
        "outputId": "4c4640c4-cf26-4bc0-c487-592789fc06bf"
      },
      "source": [
        "score = model2.evaluate(test_gen)"
      ],
      "execution_count": null,
      "outputs": [
        {
          "output_type": "stream",
          "text": [
            "15/15 [==============================] - 3s 103ms/step - loss: 0.3929 - binary_accuracy: 0.8278\n"
          ],
          "name": "stdout"
        }
      ]
    },
    {
      "cell_type": "code",
      "metadata": {
        "colab": {
          "base_uri": "https://localhost:8080/"
        },
        "id": "MSlgSgK8N59o",
        "outputId": "36289886-8b6f-40f4-bc6c-2fc3be882d14"
      },
      "source": [
        "score"
      ],
      "execution_count": null,
      "outputs": [
        {
          "output_type": "execute_result",
          "data": {
            "text/plain": [
              "[0.39023715257644653, 0.8292447924613953]"
            ]
          },
          "metadata": {
            "tags": []
          },
          "execution_count": 53
        }
      ]
    },
    {
      "cell_type": "code",
      "metadata": {
        "colab": {
          "base_uri": "https://localhost:8080/"
        },
        "id": "PxPvosJvPTG7",
        "outputId": "769dacf8-5ab3-4d22-aa0c-9c7ec2469b30"
      },
      "source": [
        "for img, label in test_gen:\n",
        "  img = np.expand_dims(img[1], axis=0)\n",
        "  predicted_label = model2.predict(img)\n",
        "  print(np.round(predicted_label[0]))\n",
        "  print(label[1])\n",
        "  break"
      ],
      "execution_count": null,
      "outputs": [
        {
          "output_type": "stream",
          "text": [
            "[0. 1. 1. 0. 0. 0. 0. 0. 0. 0. 0. 0. 0. 0. 0. 0. 0. 0. 1. 1. 0. 1. 0. 0.\n",
            " 1. 1. 0. 1. 0. 0. 0. 1. 0. 1. 0. 0. 1. 1. 0. 1.]\n",
            "[0. 1. 1. 0. 0. 1. 1. 0. 0. 1. 0. 0. 0. 0. 0. 0. 0. 0. 1. 1. 0. 0. 0. 0.\n",
            " 1. 1. 0. 1. 0. 1. 0. 1. 0. 1. 0. 0. 1. 0. 0. 1.]\n"
          ],
          "name": "stdout"
        }
      ]
    },
    {
      "cell_type": "code",
      "metadata": {
        "id": "PZujJyh3U7YW"
      },
      "source": [
        ""
      ],
      "execution_count": null,
      "outputs": []
    },
    {
      "cell_type": "code",
      "metadata": {
        "id": "Gba8fN-fG5Jw"
      },
      "source": [
        ""
      ],
      "execution_count": null,
      "outputs": []
    },
    {
      "cell_type": "code",
      "metadata": {
        "id": "ueg4XoaWG5UH"
      },
      "source": [
        ""
      ],
      "execution_count": null,
      "outputs": []
    },
    {
      "cell_type": "code",
      "metadata": {
        "id": "0d6YoDSFG5dW"
      },
      "source": [
        ""
      ],
      "execution_count": null,
      "outputs": []
    },
    {
      "cell_type": "code",
      "metadata": {
        "id": "JCrIuSlsG5mF"
      },
      "source": [
        ""
      ],
      "execution_count": null,
      "outputs": []
    },
    {
      "cell_type": "code",
      "metadata": {
        "id": "2tYzh0JDG5t1"
      },
      "source": [
        ""
      ],
      "execution_count": null,
      "outputs": []
    },
    {
      "cell_type": "code",
      "metadata": {
        "id": "T1prKTqGczOI"
      },
      "source": [
        ""
      ],
      "execution_count": null,
      "outputs": []
    },
    {
      "cell_type": "code",
      "metadata": {
        "id": "6xGqaHDZ-_Kr"
      },
      "source": [
        ""
      ],
      "execution_count": null,
      "outputs": []
    },
    {
      "cell_type": "code",
      "metadata": {
        "id": "7odaqOD3tX_e"
      },
      "source": [
        ""
      ],
      "execution_count": null,
      "outputs": []
    },
    {
      "cell_type": "code",
      "metadata": {
        "id": "YeAQHcGttXgR"
      },
      "source": [
        ""
      ],
      "execution_count": null,
      "outputs": []
    },
    {
      "cell_type": "code",
      "metadata": {
        "id": "o_q5vjeWtW8R"
      },
      "source": [
        ""
      ],
      "execution_count": null,
      "outputs": []
    },
    {
      "cell_type": "code",
      "metadata": {
        "id": "xalxYrpr-uyt"
      },
      "source": [
        ""
      ],
      "execution_count": null,
      "outputs": []
    },
    {
      "cell_type": "code",
      "metadata": {
        "colab": {
          "base_uri": "https://localhost:8080/"
        },
        "id": "JkcKc5DJC7es",
        "outputId": "42a8ebff-e1d5-44f8-ee79-026cb7e8f4bd"
      },
      "source": [
        "score = model.predict(test_gen, batch_size=64, verbose=1)"
      ],
      "execution_count": null,
      "outputs": [
        {
          "output_type": "stream",
          "text": [
            "276/276 [==============================] - 29s 103ms/step\n"
          ],
          "name": "stdout"
        }
      ]
    },
    {
      "cell_type": "code",
      "metadata": {
        "id": "lpv9TbEVEfyN"
      },
      "source": [
        "score = round_prediction_items(score)"
      ],
      "execution_count": null,
      "outputs": []
    },
    {
      "cell_type": "code",
      "metadata": {
        "colab": {
          "base_uri": "https://localhost:8080/"
        },
        "id": "hT7IYpPvFzEG",
        "outputId": "906152d1-e3c0-4927-8234-116a53dc66b5"
      },
      "source": [
        "score"
      ],
      "execution_count": null,
      "outputs": [
        {
          "output_type": "execute_result",
          "data": {
            "text/plain": [
              "array([[1., 0., 0., ..., 0., 0., 0.],\n",
              "       [0., 0., 1., ..., 0., 0., 0.],\n",
              "       [0., 0., 0., ..., 0., 0., 0.],\n",
              "       ...,\n",
              "       [0., 0., 0., ..., 0., 0., 0.],\n",
              "       [0., 0., 0., ..., 0., 0., 0.],\n",
              "       [0., 0., 0., ..., 0., 0., 0.]], dtype=float32)"
            ]
          },
          "metadata": {
            "tags": []
          },
          "execution_count": 16
        }
      ]
    },
    {
      "cell_type": "code",
      "metadata": {
        "id": "5q7XBfffCbCy"
      },
      "source": [
        "# from sklearn.metrics import classification_report\n",
        "# start = 0\n",
        "# end = 64\n",
        "\n",
        "\n",
        "# my_test_target = []\n",
        "# for image, target in test_gen:\n",
        "#   for label in target:\n",
        "#     my_test_target.append(label)\n",
        "# # print(len(my_test_target))\n"
      ],
      "execution_count": null,
      "outputs": []
    },
    {
      "cell_type": "code",
      "metadata": {
        "id": "-4khOoAyHybm"
      },
      "source": [
        "# print(classification_report(my_test_target, score))"
      ],
      "execution_count": null,
      "outputs": []
    },
    {
      "cell_type": "code",
      "metadata": {
        "id": "nMPDzXgiINzj"
      },
      "source": [
        "  "
      ],
      "execution_count": null,
      "outputs": []
    },
    {
      "cell_type": "code",
      "metadata": {
        "id": "kjhGD8_53aRJ"
      },
      "source": [
        ""
      ],
      "execution_count": null,
      "outputs": []
    },
    {
      "cell_type": "code",
      "metadata": {
        "id": "DAl3ecYwIpjE"
      },
      "source": [
        "\n",
        "\n",
        "\n"
      ],
      "execution_count": null,
      "outputs": []
    },
    {
      "cell_type": "code",
      "metadata": {
        "id": "PMx3ElClIy9m"
      },
      "source": [
        "\n",
        "import sklearn.metrics as skm\n",
        "cm_ = skm.multilabel_confusion_matrix(my_test_target, score)\n",
        "# print(cm_)\n",
        "\n",
        "cm_plot_labels = ['0','1']\n",
        "\n",
        "classes = female_df.columns[1:]\n",
        "checker = 0\n",
        "for i in cm_:\n",
        "  plot_confusion_matrix(cm=i, classes=cm_plot_labels, title= classes[checker]+' Confusion Matrix')\n",
        "  checker += 1\n",
        "  "
      ],
      "execution_count": null,
      "outputs": []
    },
    {
      "cell_type": "markdown",
      "metadata": {
        "id": "rYwXEnmsGzrp"
      },
      "source": [
        "## Prediction Part"
      ]
    },
    {
      "cell_type": "code",
      "metadata": {
        "colab": {
          "base_uri": "https://localhost:8080/",
          "height": 286
        },
        "id": "rlKHpB2ohmip",
        "outputId": "67a58e96-1205-480f-8b44-8fb89244b29e"
      },
      "source": [
        "import matplotlib.pyplot as plt\n",
        "from keras.preprocessing import image\n",
        "\n",
        "def pre_img(path): # 'Data/0061_0.jpg'\n",
        "  img = image.load_img(path, target_size=(178, 218, 3))\n",
        "  img = image.img_to_array(img)\n",
        "  img /= 255.\n",
        "  return img\n",
        "\n",
        "## Print image\n",
        "img = pre_img('w5.jpg') # Data/Test/173145.jpg\n",
        "\n",
        "plt.imshow(img)"
      ],
      "execution_count": null,
      "outputs": [
        {
          "output_type": "execute_result",
          "data": {
            "text/plain": [
              "<matplotlib.image.AxesImage at 0x7f402f991be0>"
            ]
          },
          "metadata": {
            "tags": []
          },
          "execution_count": 240
        },
        {
          "output_type": "display_data",
          "data": {
            "image/png": "[encoded data removed]",
            "text/plain": [
              "<Figure size 432x288 with 1 Axes>"
            ]
          },
          "metadata": {
            "tags": [],
            "needs_background": "light"
          }
        }
      ]
    },
    {
      "cell_type": "code",
      "metadata": {
        "id": "RR46a0t69HTW"
      },
      "source": [
        "## Predict image by model\n",
        "img = np.expand_dims(img, axis=0)\n",
        "proba = model.predict(img)\n"
      ],
      "execution_count": null,
      "outputs": []
    },
    {
      "cell_type": "code",
      "metadata": {
        "id": "1pA5pmAT-zc-"
      },
      "source": [
        "def print_categories(vector, classes):\n",
        "  j = 0\n",
        "  for i in vector:\n",
        "    print('{}, ({:.10f}%)'.format(classes[j], (i*100)))\n",
        "    j += 1"
      ],
      "execution_count": null,
      "outputs": []
    },
    {
      "cell_type": "code",
      "metadata": {
        "colab": {
          "base_uri": "https://localhost:8080/"
        },
        "id": "1l0Hs9Em-ztz",
        "outputId": "e18d7a28-e961-433a-9d4c-5deee15536af"
      },
      "source": [
        "print_categories(proba[0], female_df.columns[1:])"
      ],
      "execution_count": null,
      "outputs": [
        {
          "output_type": "stream",
          "text": [
            "Big_Nose, (1.1756410822%)\n",
            "Pointy_Nose, (21.7218518257%)\n",
            "Big_Lips, (5.5365778506%)\n",
            "Wearing_Lipstick, (2.8697732836%)\n",
            "Arched_Eyebrows, (1.7492372543%)\n",
            "Bags_Under_Eyes, (3.9094094187%)\n",
            "Bushy_Eyebrows, (1.2468204834%)\n",
            "Eyeglasses, (0.2183039440%)\n",
            "Narrow_Eyes, (15.1245951653%)\n",
            "Heavy_Makeup, (3.2156948000%)\n",
            "Oval_Face, (27.9778540134%)\n",
            "Pale_Skin, (13.6420950294%)\n",
            "Bangs, (1.4880360104%)\n",
            "Black_Hair, (1.1166215874%)\n",
            "Blond_Hair, (17.9984316230%)\n",
            "Brown_Hair, (9.8903693259%)\n",
            "Gray_Hair, (1.2437816709%)\n",
            "Straight_Hair, (15.2804836631%)\n",
            "Wavy_Hair, (9.0938508511%)\n",
            "Wearing_Earrings, (6.5017543733%)\n",
            "Wearing_Hat, (0.8992339484%)\n",
            "Wearing_Necklace, (3.4943360835%)\n",
            "High_Cheekbones, (7.0418626070%)\n",
            "Rosy_Cheeks, (0.1837741234%)\n",
            "Chubby, (0.2277859254%)\n",
            "Double_Chin, (0.1894906862%)\n"
          ],
          "name": "stdout"
        }
      ]
    }
  ]
}